{
  "nbformat": 4,
  "nbformat_minor": 0,
  "metadata": {
    "colab": {
      "name": "1.Relational Database Design",
      "provenance": [],
      "collapsed_sections": [],
      "authorship_tag": "ABX9TyM+uZtP/YFvQCU6AEB08+p5",
      "include_colab_link": true
    },
    "kernelspec": {
      "name": "python3",
      "display_name": "Python 3"
    }
  },
  "cells": [
    {
      "cell_type": "markdown",
      "metadata": {
        "id": "view-in-github",
        "colab_type": "text"
      },
      "source": [
        "<a href=\"https://colab.research.google.com/github/yijunyang/database/blob/main/1_Relational_Database_Design.ipynb\" target=\"_parent\"><img src=\"https://colab.research.google.com/assets/colab-badge.svg\" alt=\"Open In Colab\"/></a>"
      ]
    },
    {
      "cell_type": "markdown",
      "metadata": {
        "id": "4l7fhH0Rt0qJ"
      },
      "source": [
        "# Introduction\n",
        "\n",
        "*This is part of Yale course BIS638.*\n",
        "\n",
        "- Design and create a basic patient database (a subset of MIMIC III https://physionet.org/content/mimiciii/1.4/)\n",
        "- Implement a relational database based on the ER model\n",
        "\n",
        "- Query the patient database using SQL queries\n"
      ]
    },
    {
      "cell_type": "markdown",
      "metadata": {
        "id": "07wC6N1Lu5Ci"
      },
      "source": [
        "# Install MySQL and Python-connector"
      ]
    },
    {
      "cell_type": "markdown",
      "metadata": {
        "id": "c9D3g_NKXE3f"
      },
      "source": [
        "Install mysql:"
      ]
    },
    {
      "cell_type": "code",
      "metadata": {
        "id": "h6d43V8UXuW0"
      },
      "source": [
        "!apt install mysql-server libmysqlclient-dev"
      ],
      "execution_count": null,
      "outputs": []
    },
    {
      "cell_type": "markdown",
      "metadata": {
        "id": "0ShkvWc4XKPB"
      },
      "source": [
        "Start mysql server:"
      ]
    },
    {
      "cell_type": "code",
      "metadata": {
        "id": "jhGLiAtFX64s"
      },
      "source": [
        "!service mysql start"
      ],
      "execution_count": null,
      "outputs": []
    },
    {
      "cell_type": "markdown",
      "metadata": {
        "id": "aSzU4cHcXNOc"
      },
      "source": [
        "Alter the root user to accept bis638 as the root password:"
      ]
    },
    {
      "cell_type": "code",
      "metadata": {
        "id": "v_rqkxjnX76H"
      },
      "source": [
        "!mysql -e \"ALTER USER 'root'@'localhost' IDENTIFIED WITH mysql_native_password BY 'bis638'\""
      ],
      "execution_count": null,
      "outputs": []
    },
    {
      "cell_type": "markdown",
      "metadata": {
        "id": "Em_1oMX8XQ2T"
      },
      "source": [
        "Install mysql connector in python:"
      ]
    },
    {
      "cell_type": "code",
      "metadata": {
        "id": "GOJcht4dc49N"
      },
      "source": [
        "!pip install mysql-connector-python"
      ],
      "execution_count": null,
      "outputs": []
    },
    {
      "cell_type": "markdown",
      "metadata": {
        "id": "LCyPMghju_MW"
      },
      "source": [
        "# Create Database (Via Google Drive)"
      ]
    },
    {
      "cell_type": "code",
      "metadata": {
        "id": "so9mlPSvYCCB"
      },
      "source": [
        "from google.colab import drive\n",
        "drive.mount('/content/gdrive')"
      ],
      "execution_count": null,
      "outputs": []
    },
    {
      "cell_type": "markdown",
      "metadata": {
        "id": "CnK7GvDeXUNN"
      },
      "source": [
        "Create a database if it doesn't exist:\n",
        "- The `SOURCE` command runs the sql script file located in your drive "
      ]
    },
    {
      "cell_type": "code",
      "metadata": {
        "id": "hKjTAaeRZ7nB",
        "outputId": "ffd58b22-9508-4d6d-86d6-8e6365f9d66f",
        "colab": {
          "base_uri": "https://localhost:8080/",
          "height": 35
        }
      },
      "source": [
        "\n",
        "!mysql -u root -p -e \"CREATE DATABASE IF NOT EXISTS mimic3;\\\n",
        "USE mimic3;\\\n",
        "SOURCE /content/gdrive/My Drive/HW1_MIMIC3_Physical_Model_create.sql;\\\n",
        "COMMIT;\""
      ],
      "execution_count": null,
      "outputs": [
        {
          "output_type": "stream",
          "text": [
            "Enter password: \n"
          ],
          "name": "stdout"
        }
      ]
    },
    {
      "cell_type": "markdown",
      "metadata": {
        "id": "HDhCPMkEXovx"
      },
      "source": [
        "Load data:"
      ]
    },
    {
      "cell_type": "code",
      "metadata": {
        "id": "-2eUeCSvhrEV"
      },
      "source": [
        "import mysql.connector\n",
        "#establish a database connection with the load data file option set to True\n",
        "cnx = mysql.connector.connect(user='root',\n",
        "                password='bis638',\n",
        "                host='127.0.0.1',\n",
        "                database='mimic3',\n",
        "                allow_local_infile=True)\n",
        "\n",
        "#create database_cursor to perform SQL operation\n",
        "db_cursor = cnx.cursor()\n",
        "\n",
        "#execute the sql command to load a data file into a table (repeat the following line for more data files and tables)\n",
        "db_cursor.execute(\"Load data local infile '/content/gdrive/My Drive/mimic_iii/mimic_iii/PATIENTS.csv' into table PATIENTS fields terminated by ',' ignore 1 lines\")\n",
        "db_cursor.execute(\"Load data local infile '/content/gdrive/My Drive/mimic_iii/mimic_iii/ADMISSIONS.csv' into table ADMISSIONS fields terminated by ',' ignore 1 lines\")\n",
        "db_cursor.execute(\"Load data local infile '/content/gdrive/My Drive/mimic_iii/mimic_iii/D_ICD_DIAGNOSES.csv' into table D_ICD_DIAGNOSES fields terminated by ',' ignore 1 lines\")\n",
        "db_cursor.execute(\"Load data local infile '/content/gdrive/My Drive/mimic_iii/mimic_iii/DIAGNOSES_ICD.csv' into table DIAGNOSES_ICD fields terminated by ',' ignore 1 lines\")\n",
        "\n",
        "#commit the loading data transaction\n",
        "db_cursor.execute(\"commit\")\n"
      ],
      "execution_count": null,
      "outputs": []
    },
    {
      "cell_type": "markdown",
      "metadata": {
        "id": "vU_oMWXXvdR6"
      },
      "source": [
        "# Implement SQL Query"
      ]
    },
    {
      "cell_type": "markdown",
      "metadata": {
        "id": "X_ATKZQXXsV9"
      },
      "source": [
        "Define and execute the SQL query:"
      ]
    },
    {
      "cell_type": "code",
      "metadata": {
        "id": "qgMHjJr8lSnK"
      },
      "source": [
        "sql_statement = \"SELECT distinct d.icd9_code, d2.long_title FROM DIAGNOSES_ICD d \\\n",
        "inner join D_ICD_DIAGNOSES d2 on d.icd9_code=d2.icd9_code\"\n",
        "db_cursor.execute(sql_statement)\n",
        "dbresult = db_cursor.fetchall()\n",
        "for r in dbresult:\n",
        "  print(r)\n",
        "db_cursor.close()\n",
        "cnx.close()"
      ],
      "execution_count": null,
      "outputs": []
    }
  ]
}