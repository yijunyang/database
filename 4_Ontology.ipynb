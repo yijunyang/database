{
  "nbformat": 4,
  "nbformat_minor": 0,
  "metadata": {
    "colab": {
      "name": "4_Ontology.ipynb",
      "provenance": [],
      "collapsed_sections": [],
      "include_colab_link": true
    },
    "kernelspec": {
      "display_name": "Python 3",
      "name": "python3"
    }
  },
  "cells": [
    {
      "cell_type": "markdown",
      "metadata": {
        "id": "view-in-github",
        "colab_type": "text"
      },
      "source": [
        "<a href=\"https://colab.research.google.com/github/yijunyang/database/blob/main/4_Ontology.ipynb\" target=\"_parent\"><img src=\"https://colab.research.google.com/assets/colab-badge.svg\" alt=\"Open In Colab\"/></a>"
      ]
    },
    {
      "cell_type": "markdown",
      "metadata": {
        "id": "yq_3pTopoRb8"
      },
      "source": [
        "# Introduction\n",
        "\n",
        "*This is part of Yale course BIS638.*\n",
        "\n",
        "- Base on `1_Relational_Database_Design.ipynb`, extend the MIMIC database with disease ontology.\n",
        "- Extract synonyms of the ICD diagnoses, to realize retrieving patients with a certain diagnosis using its synonyms with SQL queries."
      ]
    },
    {
      "cell_type": "markdown",
      "metadata": {
        "id": "hlKqhqKWdvrc"
      },
      "source": [
        "# Part 1 Ontology Concepts\n",
        "Question: What's the difference between continuants and occurrents?\n",
        "\n",
        "Answer: *Continuants are entities that persist through time (for example: objects, qualities), while occurrents are events in which continuants participate (for example: admissions, diagnoses).*\n",
        "\n",
        "  \n",
        "\n"
      ]
    },
    {
      "cell_type": "markdown",
      "metadata": {
        "id": "ez_qd2-uecAQ"
      },
      "source": [
        "# Part 2 Ontology Design\n",
        "\n",
        "Use [web protege](https://webprotege.stanford.edu/) to create a simple patient ontology mimicking the data model in your problem set I.\n",
        "\n",
        "*The ontology will be shared via Protege directly.*"
      ]
    },
    {
      "cell_type": "markdown",
      "metadata": {
        "id": "Us35ygX9Y_AF"
      },
      "source": [
        "# Part 3 Programming\n",
        "\n",
        "Using [OLS](https://www.ebi.ac.uk/ols/index) as an ontology resource, link the disease terms in Disease Ontology to the patient data representation (ICD diagnoses) in problem set I. Add these terms and their synonyms to your MIMIC patient data database (creating a new table). Using Python (Google Colab) and the [API](https://www.ebi.ac.uk/ols/docs/api) provided by the OLS to extract synonyms of the ICD diagnoses from Disease Ontology and populate the new table with these extracted terms and synonyms.\n",
        "\n",
        "\n",
        "## 1. Preparation\n",
        "- Install mySQL\n",
        "- Mount google drive\n",
        "- Require libraries"
      ]
    },
    {
      "cell_type": "code",
      "metadata": {
        "id": "NLS0WzbhmGs5"
      },
      "source": [
        "# install mySQL\n",
        "!apt install mysql-server libmysqlclient-dev\n",
        "!service mysql start\n",
        "!mysql -e \"ALTER USER 'root'@'localhost' IDENTIFIED WITH mysql_native_password BY 'bis638'\"\n",
        "!pip install mysql-connector-python"
      ],
      "execution_count": null,
      "outputs": []
    },
    {
      "cell_type": "code",
      "metadata": {
        "colab": {
          "base_uri": "https://localhost:8080/",
          "height": 0
        },
        "id": "wLo-bcARqTmF",
        "outputId": "294c6555-8505-4618-dbc4-f4576c196a84"
      },
      "source": [
        "# mount google drive\n",
        "from google.colab import drive\n",
        "drive.mount('/content/gdrive')"
      ],
      "execution_count": 36,
      "outputs": [
        {
          "output_type": "stream",
          "text": [
            "Drive already mounted at /content/gdrive; to attempt to forcibly remount, call drive.mount(\"/content/gdrive\", force_remount=True).\n"
          ],
          "name": "stdout"
        }
      ]
    },
    {
      "cell_type": "code",
      "metadata": {
        "id": "B4TQgFzCncem"
      },
      "source": [
        "# require libraries\n",
        "import requests \n",
        "import pandas as pd"
      ],
      "execution_count": 47,
      "outputs": []
    },
    {
      "cell_type": "markdown",
      "metadata": {
        "id": "rLBimlzaZ_vP"
      },
      "source": [
        "Now, we can create a database, using the `.sql` file generated from Vertabelo"
      ]
    },
    {
      "cell_type": "code",
      "metadata": {
        "colab": {
          "base_uri": "https://localhost:8080/",
          "height": 0
        },
        "id": "iggRniz6lGoK",
        "outputId": "8196d4da-4bc3-4b5b-ac57-0a4ec6e0f90e"
      },
      "source": [
        "# !mysql -u root -p -e \"DROP DATABASE mimic3;\"\n",
        "!mysql -u root -p -e \"CREATE DATABASE IF NOT EXISTS mimic3;\\\n",
        "USE mimic3;\\\n",
        "SOURCE /content/gdrive/My Drive/HW4_V3_create.sql;\\\n",
        "COMMIT;\""
      ],
      "execution_count": 5,
      "outputs": [
        {
          "output_type": "stream",
          "text": [
            "Enter password: \n"
          ],
          "name": "stdout"
        }
      ]
    },
    {
      "cell_type": "markdown",
      "metadata": {
        "id": "bRag0iQtZLFO"
      },
      "source": [
        "## 2. Ontology\n",
        "- Get DOID terms that have ICD9 code\n",
        "- Retrieve DOID, labels, synonyms, ICD9 code\n",
        "- Export the data to `.csv` files"
      ]
    },
    {
      "cell_type": "code",
      "metadata": {
        "id": "-92iM-iyVBkp"
      },
      "source": [
        "# search for DOID terms that have ICD9CM codes  \n",
        "# api-endpoint \n",
        "URL = \"https://www.ebi.ac.uk/ols/api/search\"  \n",
        "\n",
        "# param values here \n",
        "searchterm = 'ICD9CM'\n",
        "ont = \"doid\"\n",
        "rowmax = 20 # limit to 20 terms which can be extended to 2200\n",
        "fieldlist = 'iri,label,synonym,obo_id'\n",
        "  \n",
        "# defining a params dict for the parameters to be sent to the API \n",
        "PARAMS = {'q':searchterm, 'ontology':ont, 'rows':rowmax, 'fieldList':fieldlist} \n",
        "  \n",
        "# sending get request and saving the response as response object \n",
        "r = requests.get(url = URL, params = PARAMS) \n",
        "  \n",
        "# extracting data in json format \n",
        "data = r.json() \n",
        "irilist = []\n",
        "\n",
        "'''\n",
        "sample code:\n",
        "for d in data['response']['docs']:\n",
        "  print (d['obo_id'])\n",
        "  print (d['iri'])\n",
        "  irilist.append(d['iri'])\n",
        "  print (d['label'])\n",
        "  if 'synonym' in d.keys():\n",
        "    print ('synonym(s):')\n",
        "    for s in d['synonym']:\n",
        "      print (s)\n",
        "'''\n",
        "\n",
        "# initiate a temporary list to save the dictionaries\n",
        "tmp = []\n",
        "# initiate an index\n",
        "i = 0\n",
        "\n",
        "for d in data['response']['docs']:\n",
        "  irilist.append(d['iri'])\n",
        "  if 'synonym' in d.keys():\n",
        "    for s in d['synonym']:\n",
        "      # initiate a dictionary to save information\n",
        "      SYN = {}\n",
        "      # save DOID, label, and synonyms\n",
        "      SYN['DOID'] = d['obo_id'].replace('DOID:', '')\n",
        "      SYN['label'] = d['label']\n",
        "      SYN['synonyms'] = s\n",
        "      # save the value of dictionary in the list\n",
        "      tmp.append(SYN.values())\n",
        "      i = i + 1\n"
      ],
      "execution_count": 7,
      "outputs": []
    },
    {
      "cell_type": "code",
      "metadata": {
        "colab": {
          "base_uri": "https://localhost:8080/",
          "height": 0
        },
        "id": "xZS57lU6BBhY",
        "outputId": "91fd8014-3510-4524-a331-bc3ae6ccac81"
      },
      "source": [
        "# take a look at the result\n",
        "tmp"
      ],
      "execution_count": 8,
      "outputs": [
        {
          "output_type": "execute_result",
          "data": {
            "text/plain": [
              "[dict_values(['849', 'rheumatoid arthritis interstitial lung disease', 'Rheumatoid lung']),\n",
              " dict_values(['783', 'end stage renal disease', 'end-stage kidney disease']),\n",
              " dict_values(['783', 'end stage renal disease', 'end stage renal failure']),\n",
              " dict_values(['13227', \"retinal dystrophies primarily involving Bruch's membrane\", 'retinal dystrophies primarily involving Bruch membrane']),\n",
              " dict_values(['13276', 'Mycoplasma pneumoniae pneumonia', \"Pneumonia due to Eaton's agent\"]),\n",
              " dict_values(['13276', 'Mycoplasma pneumoniae pneumonia', 'Pneumonia due to Mycoplasma pneumoniae (disorder)']),\n",
              " dict_values(['13276', 'Mycoplasma pneumoniae pneumonia', 'Mycoplasmal pneumonia']),\n",
              " dict_values(['13276', 'Mycoplasma pneumoniae pneumonia', 'Pneumonia due to Mycoplasma pneumoniae']),\n",
              " dict_values(['13276', 'Mycoplasma pneumoniae pneumonia', 'Mycoplasma pneumonia']),\n",
              " dict_values(['13276', 'Mycoplasma pneumoniae pneumonia', 'cold agglutinin positive pneumonia']),\n",
              " dict_values(['13272', 'Klebsiella pneumonia', 'Pneumonia due to Klebsiella pneumoniae (disorder)']),\n",
              " dict_values(['13272', 'Klebsiella pneumonia', 'Pneumonia due to Klebsiella pneumoniae']),\n",
              " dict_values(['13282', 'intestinal tuberculosis', 'tuberculosis of intestine']),\n",
              " dict_values(['0040099', 'livedoid vasculitis', 'livedoid vasculopathy'])]"
            ]
          },
          "metadata": {
            "tags": []
          },
          "execution_count": 8
        }
      ]
    },
    {
      "cell_type": "code",
      "metadata": {
        "colab": {
          "base_uri": "https://localhost:8080/",
          "height": 473
        },
        "id": "gpMaC1ecDxTM",
        "outputId": "a45d9473-e6fc-415a-d486-0a7cadf401e5"
      },
      "source": [
        "# put the result into a pandas dataframe\n",
        "df = pd.DataFrame(columns = ['DOID', 'Label', 'Synonym'], data = tmp)\n",
        "df['row_id'] = range(len(df))\n",
        "\n",
        "# rearrange columns\n",
        "cols = df.columns.tolist()\n",
        "cols = cols[-1:] + cols[:-1]\n",
        "df = df[cols] \n",
        "\n",
        "# export to a csv file\n",
        "df.to_csv('/content/gdrive/My Drive/mimic_iii/mimic_iii/synonym.csv', index = False)\n",
        "\n",
        "# show the result\n",
        "synonym = pd.read_csv('/content/gdrive/My Drive/mimic_iii/mimic_iii/synonym.csv')\n",
        "synonym"
      ],
      "execution_count": 12,
      "outputs": [
        {
          "output_type": "execute_result",
          "data": {
            "text/html": [
              "<div>\n",
              "<style scoped>\n",
              "    .dataframe tbody tr th:only-of-type {\n",
              "        vertical-align: middle;\n",
              "    }\n",
              "\n",
              "    .dataframe tbody tr th {\n",
              "        vertical-align: top;\n",
              "    }\n",
              "\n",
              "    .dataframe thead th {\n",
              "        text-align: right;\n",
              "    }\n",
              "</style>\n",
              "<table border=\"1\" class=\"dataframe\">\n",
              "  <thead>\n",
              "    <tr style=\"text-align: right;\">\n",
              "      <th></th>\n",
              "      <th>row_id</th>\n",
              "      <th>DOID</th>\n",
              "      <th>Label</th>\n",
              "      <th>Synonym</th>\n",
              "    </tr>\n",
              "  </thead>\n",
              "  <tbody>\n",
              "    <tr>\n",
              "      <th>0</th>\n",
              "      <td>0</td>\n",
              "      <td>849</td>\n",
              "      <td>rheumatoid arthritis interstitial lung disease</td>\n",
              "      <td>Rheumatoid lung</td>\n",
              "    </tr>\n",
              "    <tr>\n",
              "      <th>1</th>\n",
              "      <td>1</td>\n",
              "      <td>783</td>\n",
              "      <td>end stage renal disease</td>\n",
              "      <td>end-stage kidney disease</td>\n",
              "    </tr>\n",
              "    <tr>\n",
              "      <th>2</th>\n",
              "      <td>2</td>\n",
              "      <td>783</td>\n",
              "      <td>end stage renal disease</td>\n",
              "      <td>end stage renal failure</td>\n",
              "    </tr>\n",
              "    <tr>\n",
              "      <th>3</th>\n",
              "      <td>3</td>\n",
              "      <td>13227</td>\n",
              "      <td>retinal dystrophies primarily involving Bruch'...</td>\n",
              "      <td>retinal dystrophies primarily involving Bruch ...</td>\n",
              "    </tr>\n",
              "    <tr>\n",
              "      <th>4</th>\n",
              "      <td>4</td>\n",
              "      <td>13276</td>\n",
              "      <td>Mycoplasma pneumoniae pneumonia</td>\n",
              "      <td>Pneumonia due to Eaton's agent</td>\n",
              "    </tr>\n",
              "    <tr>\n",
              "      <th>5</th>\n",
              "      <td>5</td>\n",
              "      <td>13276</td>\n",
              "      <td>Mycoplasma pneumoniae pneumonia</td>\n",
              "      <td>Pneumonia due to Mycoplasma pneumoniae (disorder)</td>\n",
              "    </tr>\n",
              "    <tr>\n",
              "      <th>6</th>\n",
              "      <td>6</td>\n",
              "      <td>13276</td>\n",
              "      <td>Mycoplasma pneumoniae pneumonia</td>\n",
              "      <td>Mycoplasmal pneumonia</td>\n",
              "    </tr>\n",
              "    <tr>\n",
              "      <th>7</th>\n",
              "      <td>7</td>\n",
              "      <td>13276</td>\n",
              "      <td>Mycoplasma pneumoniae pneumonia</td>\n",
              "      <td>Pneumonia due to Mycoplasma pneumoniae</td>\n",
              "    </tr>\n",
              "    <tr>\n",
              "      <th>8</th>\n",
              "      <td>8</td>\n",
              "      <td>13276</td>\n",
              "      <td>Mycoplasma pneumoniae pneumonia</td>\n",
              "      <td>Mycoplasma pneumonia</td>\n",
              "    </tr>\n",
              "    <tr>\n",
              "      <th>9</th>\n",
              "      <td>9</td>\n",
              "      <td>13276</td>\n",
              "      <td>Mycoplasma pneumoniae pneumonia</td>\n",
              "      <td>cold agglutinin positive pneumonia</td>\n",
              "    </tr>\n",
              "    <tr>\n",
              "      <th>10</th>\n",
              "      <td>10</td>\n",
              "      <td>13272</td>\n",
              "      <td>Klebsiella pneumonia</td>\n",
              "      <td>Pneumonia due to Klebsiella pneumoniae (disorder)</td>\n",
              "    </tr>\n",
              "    <tr>\n",
              "      <th>11</th>\n",
              "      <td>11</td>\n",
              "      <td>13272</td>\n",
              "      <td>Klebsiella pneumonia</td>\n",
              "      <td>Pneumonia due to Klebsiella pneumoniae</td>\n",
              "    </tr>\n",
              "    <tr>\n",
              "      <th>12</th>\n",
              "      <td>12</td>\n",
              "      <td>13282</td>\n",
              "      <td>intestinal tuberculosis</td>\n",
              "      <td>tuberculosis of intestine</td>\n",
              "    </tr>\n",
              "    <tr>\n",
              "      <th>13</th>\n",
              "      <td>13</td>\n",
              "      <td>40099</td>\n",
              "      <td>livedoid vasculitis</td>\n",
              "      <td>livedoid vasculopathy</td>\n",
              "    </tr>\n",
              "  </tbody>\n",
              "</table>\n",
              "</div>"
            ],
            "text/plain": [
              "    row_id  ...                                            Synonym\n",
              "0        0  ...                                    Rheumatoid lung\n",
              "1        1  ...                           end-stage kidney disease\n",
              "2        2  ...                            end stage renal failure\n",
              "3        3  ...  retinal dystrophies primarily involving Bruch ...\n",
              "4        4  ...                     Pneumonia due to Eaton's agent\n",
              "5        5  ...  Pneumonia due to Mycoplasma pneumoniae (disorder)\n",
              "6        6  ...                              Mycoplasmal pneumonia\n",
              "7        7  ...             Pneumonia due to Mycoplasma pneumoniae\n",
              "8        8  ...                               Mycoplasma pneumonia\n",
              "9        9  ...                 cold agglutinin positive pneumonia\n",
              "10      10  ...  Pneumonia due to Klebsiella pneumoniae (disorder)\n",
              "11      11  ...             Pneumonia due to Klebsiella pneumoniae\n",
              "12      12  ...                          tuberculosis of intestine\n",
              "13      13  ...                              livedoid vasculopathy\n",
              "\n",
              "[14 rows x 4 columns]"
            ]
          },
          "metadata": {
            "tags": []
          },
          "execution_count": 12
        }
      ]
    },
    {
      "cell_type": "markdown",
      "metadata": {
        "id": "0UZKaYIPaUwz"
      },
      "source": [
        "Then, retrieve icd9 code for each iri."
      ]
    },
    {
      "cell_type": "code",
      "metadata": {
        "id": "ktAtpDVAUoVL"
      },
      "source": [
        "# initiate a temporary list to save the dictionaries\n",
        "tmp2 = []\n",
        "# initiate an index\n",
        "i = 0\n",
        "\n",
        "'''\n",
        "sample code:\n",
        "for iri in irilist:\n",
        "  iri2 = iri.replace(':','%253A')\n",
        "  iri2 = iri2.replace('/', '%252F')\n",
        "  # print (iri)\n",
        "  URL2 = 'https://www.ebi.ac.uk/ols/api/ontologies/' + ont + '/terms/' + iri2\n",
        "  r2 = requests.get(url = URL2)\n",
        "  data2 = r2.json()\n",
        "  for d2 in data2['obo_xref']:\n",
        "    if d2['database'] == 'ICD9CM':\n",
        "      print(iri)\n",
        "      print(d2['id'])\n",
        "      print(d2['id'].replace('.',''))\n",
        "'''\n",
        "\n",
        "# the code below retrieve icd9 code for each iri\n",
        "for iri in irilist:\n",
        "  iri2 = iri.replace(':','%253A')\n",
        "  iri2 = iri2.replace('/', '%252F')\n",
        "  # print (iri)\n",
        "  URL2 = 'https://www.ebi.ac.uk/ols/api/ontologies/' + ont + '/terms/' + iri2\n",
        "  r2 = requests.get(url = URL2)\n",
        "  data2 = r2.json()\n",
        "  for d2 in data2['obo_xref']:\n",
        "    if d2['database'] == 'ICD9CM':\n",
        "      # initiate a dictionary to save info\n",
        "      ICD = {}\n",
        "      ICD['DOID']= (iri.replace('http://purl.obolibrary.org/obo/DOID_', ''))\n",
        "      ICD['ICD9'] = (d2['id'].replace('.',''))\n",
        "      # save the value of dictionary in the list\n",
        "      tmp2.append(ICD.values())\n",
        "      i = i + 1"
      ],
      "execution_count": 13,
      "outputs": []
    },
    {
      "cell_type": "code",
      "metadata": {
        "colab": {
          "base_uri": "https://localhost:8080/",
          "height": 0
        },
        "id": "yLnS2b6maaiu",
        "outputId": "9f818e79-fab4-47cd-fd2c-a5e7c012c922"
      },
      "source": [
        "# take a look at the result\n",
        "tmp2"
      ],
      "execution_count": 14,
      "outputs": [
        {
          "output_type": "execute_result",
          "data": {
            "text/plain": [
              "[dict_values(['849', '71481']),\n",
              " dict_values(['783', '5856']),\n",
              " dict_values(['13327', '36502']),\n",
              " dict_values(['13365', '31509']),\n",
              " dict_values(['11129', '38523']),\n",
              " dict_values(['8646', '29389']),\n",
              " dict_values(['9504', '6108']),\n",
              " dict_values(['14559', '32081']),\n",
              " dict_values(['13227', '36277']),\n",
              " dict_values(['13239', '52141']),\n",
              " dict_values(['13276', '4830']),\n",
              " dict_values(['13272', '4820']),\n",
              " dict_values(['13282', '0148']),\n",
              " dict_values(['9459', '1821']),\n",
              " dict_values(['9407', '41060']),\n",
              " dict_values(['0040085', '99591']),\n",
              " dict_values(['0040084', '481']),\n",
              " dict_values(['0040083', '4831']),\n",
              " dict_values(['13145', '40511']),\n",
              " dict_values(['0040099', '7091'])]"
            ]
          },
          "metadata": {
            "tags": []
          },
          "execution_count": 14
        }
      ]
    },
    {
      "cell_type": "code",
      "metadata": {
        "colab": {
          "base_uri": "https://localhost:8080/",
          "height": 655
        },
        "id": "5XjOq3raahaE",
        "outputId": "060ce045-8847-4eee-84f0-45f80d1851ac"
      },
      "source": [
        "# put the result into a pandas dataframe\n",
        "df2 = pd.DataFrame(columns = ['DOID', 'ICD9'], data= tmp2)\n",
        "\n",
        "# export to a csv file\n",
        "df2.to_csv('/content/gdrive/My Drive/mimic_iii/mimic_iii/ICD9.csv', index = False)\n",
        "\n",
        "# show the result\n",
        "icd9 = pd.read_csv('/content/gdrive/My Drive/mimic_iii/mimic_iii/ICD9.csv')\n",
        "icd9"
      ],
      "execution_count": 15,
      "outputs": [
        {
          "output_type": "execute_result",
          "data": {
            "text/html": [
              "<div>\n",
              "<style scoped>\n",
              "    .dataframe tbody tr th:only-of-type {\n",
              "        vertical-align: middle;\n",
              "    }\n",
              "\n",
              "    .dataframe tbody tr th {\n",
              "        vertical-align: top;\n",
              "    }\n",
              "\n",
              "    .dataframe thead th {\n",
              "        text-align: right;\n",
              "    }\n",
              "</style>\n",
              "<table border=\"1\" class=\"dataframe\">\n",
              "  <thead>\n",
              "    <tr style=\"text-align: right;\">\n",
              "      <th></th>\n",
              "      <th>DOID</th>\n",
              "      <th>ICD9</th>\n",
              "    </tr>\n",
              "  </thead>\n",
              "  <tbody>\n",
              "    <tr>\n",
              "      <th>0</th>\n",
              "      <td>849</td>\n",
              "      <td>71481</td>\n",
              "    </tr>\n",
              "    <tr>\n",
              "      <th>1</th>\n",
              "      <td>783</td>\n",
              "      <td>5856</td>\n",
              "    </tr>\n",
              "    <tr>\n",
              "      <th>2</th>\n",
              "      <td>13327</td>\n",
              "      <td>36502</td>\n",
              "    </tr>\n",
              "    <tr>\n",
              "      <th>3</th>\n",
              "      <td>13365</td>\n",
              "      <td>31509</td>\n",
              "    </tr>\n",
              "    <tr>\n",
              "      <th>4</th>\n",
              "      <td>11129</td>\n",
              "      <td>38523</td>\n",
              "    </tr>\n",
              "    <tr>\n",
              "      <th>5</th>\n",
              "      <td>8646</td>\n",
              "      <td>29389</td>\n",
              "    </tr>\n",
              "    <tr>\n",
              "      <th>6</th>\n",
              "      <td>9504</td>\n",
              "      <td>6108</td>\n",
              "    </tr>\n",
              "    <tr>\n",
              "      <th>7</th>\n",
              "      <td>14559</td>\n",
              "      <td>32081</td>\n",
              "    </tr>\n",
              "    <tr>\n",
              "      <th>8</th>\n",
              "      <td>13227</td>\n",
              "      <td>36277</td>\n",
              "    </tr>\n",
              "    <tr>\n",
              "      <th>9</th>\n",
              "      <td>13239</td>\n",
              "      <td>52141</td>\n",
              "    </tr>\n",
              "    <tr>\n",
              "      <th>10</th>\n",
              "      <td>13276</td>\n",
              "      <td>4830</td>\n",
              "    </tr>\n",
              "    <tr>\n",
              "      <th>11</th>\n",
              "      <td>13272</td>\n",
              "      <td>4820</td>\n",
              "    </tr>\n",
              "    <tr>\n",
              "      <th>12</th>\n",
              "      <td>13282</td>\n",
              "      <td>148</td>\n",
              "    </tr>\n",
              "    <tr>\n",
              "      <th>13</th>\n",
              "      <td>9459</td>\n",
              "      <td>1821</td>\n",
              "    </tr>\n",
              "    <tr>\n",
              "      <th>14</th>\n",
              "      <td>9407</td>\n",
              "      <td>41060</td>\n",
              "    </tr>\n",
              "    <tr>\n",
              "      <th>15</th>\n",
              "      <td>40085</td>\n",
              "      <td>99591</td>\n",
              "    </tr>\n",
              "    <tr>\n",
              "      <th>16</th>\n",
              "      <td>40084</td>\n",
              "      <td>481</td>\n",
              "    </tr>\n",
              "    <tr>\n",
              "      <th>17</th>\n",
              "      <td>40083</td>\n",
              "      <td>4831</td>\n",
              "    </tr>\n",
              "    <tr>\n",
              "      <th>18</th>\n",
              "      <td>13145</td>\n",
              "      <td>40511</td>\n",
              "    </tr>\n",
              "    <tr>\n",
              "      <th>19</th>\n",
              "      <td>40099</td>\n",
              "      <td>7091</td>\n",
              "    </tr>\n",
              "  </tbody>\n",
              "</table>\n",
              "</div>"
            ],
            "text/plain": [
              "     DOID   ICD9\n",
              "0     849  71481\n",
              "1     783   5856\n",
              "2   13327  36502\n",
              "3   13365  31509\n",
              "4   11129  38523\n",
              "5    8646  29389\n",
              "6    9504   6108\n",
              "7   14559  32081\n",
              "8   13227  36277\n",
              "9   13239  52141\n",
              "10  13276   4830\n",
              "11  13272   4820\n",
              "12  13282    148\n",
              "13   9459   1821\n",
              "14   9407  41060\n",
              "15  40085  99591\n",
              "16  40084    481\n",
              "17  40083   4831\n",
              "18  13145  40511\n",
              "19  40099   7091"
            ]
          },
          "metadata": {
            "tags": []
          },
          "execution_count": 15
        }
      ]
    },
    {
      "cell_type": "markdown",
      "metadata": {
        "id": "KL8AOUT0ale_"
      },
      "source": [
        "## 3. MySQL query\n",
        "- Write a SQL join query to retrieve patients with a certain diagnosis using its synonyms."
      ]
    },
    {
      "cell_type": "code",
      "metadata": {
        "id": "XKxzzBzujnxG"
      },
      "source": [
        "import mysql.connector\n",
        "# establish a database connection with the load data file option set to True\n",
        "cnx = mysql.connector.connect(user='root',\n",
        "                password='bis638',\n",
        "                host='127.0.0.1',\n",
        "                database='mimic3',\n",
        "                allow_local_infile=True)\n",
        "\n",
        "# create database_cursor to perform SQL operation\n",
        "db_cursor = cnx.cursor()\n",
        "\n",
        "# execute the sql command to load a data file into a table (repeat the following line for more data files and tables)\n",
        "db_cursor.execute(\"Load data local infile '/content/gdrive/My Drive/mimic_iii/mimic_iii/PATIENTS.csv' into table PATIENTS fields terminated by ',' ignore 1 lines\")\n",
        "db_cursor.execute(\"Load data local infile '/content/gdrive/My Drive/mimic_iii/mimic_iii/ADMISSIONS.csv' into table ADMISSIONS fields terminated by ',' ignore 1 lines\")\n",
        "db_cursor.execute(\"Load data local infile '/content/gdrive/My Drive/mimic_iii/mimic_iii/D_ICD_DIAGNOSES.csv' into table D_ICD_DIAGNOSES fields terminated by ',' ignore 1 lines\")\n",
        "db_cursor.execute(\"Load data local infile '/content/gdrive/My Drive/mimic_iii/mimic_iii/DIAGNOSES_ICD.csv' into table DIAGNOSES_ICD fields terminated by ',' ignore 1 lines\")\n",
        "db_cursor.execute(\"Load data local infile '/content/gdrive/My Drive/mimic_iii/mimic_iii/ICD9.csv' into table DOID fields terminated by ',' ignore 1 lines\")\n",
        "db_cursor.execute(\"Load data local infile '/content/gdrive/My Drive/mimic_iii/mimic_iii/synonym.csv' into table SYNONYM fields terminated by ',' ignore 1 lines\")\n",
        "\n",
        "# commit the loading data transaction\n",
        "db_cursor.execute(\"commit\")"
      ],
      "execution_count": 52,
      "outputs": []
    },
    {
      "cell_type": "markdown",
      "metadata": {
        "id": "637IvHbUbTdZ"
      },
      "source": [
        "Use MySQL to retrive all the patients with a diagnoses whose synonym was 'end-stage kidney disease'."
      ]
    },
    {
      "cell_type": "code",
      "metadata": {
        "colab": {
          "base_uri": "https://localhost:8080/",
          "height": 0
        },
        "id": "g5IseoYZy8D9",
        "outputId": "a5a8bf53-155f-4cf8-baff-683ca4568fcf"
      },
      "source": [
        "!mysql -u root -p -e \"USE mimic3;\\\n",
        "SELECT diag.subject_id, diag.hadm_id, diag.icd9_code, d.DOID, s.label, s.synonym FROM DOID d inner join SYNONYM s on d.DOID = s.DOID inner join DIAGNOSES_ICD diag on d.icd9_code = diag.icd9_code WHERE s.synonym = 'end-stage kidney disease';\"\n"
      ],
      "execution_count": 51,
      "outputs": [
        {
          "output_type": "stream",
          "text": [
            "Enter password: \n",
            "+------------+---------+-----------+------+-------------------------+--------------------------+\n",
            "| subject_id | hadm_id | icd9_code | DOID | label                   | synonym                  |\n",
            "+------------+---------+-----------+------+-------------------------+--------------------------+\n",
            "|      10029 |  132349 | 5856      | 783  | end stage renal disease | end-stage kidney disease |\n",
            "|      40204 |  175237 | 5856      | 783  | end stage renal disease | end-stage kidney disease |\n",
            "|      43881 |  167021 | 5856      | 783  | end stage renal disease | end-stage kidney disease |\n",
            "|      43881 |  172454 | 5856      | 783  | end stage renal disease | end-stage kidney disease |\n",
            "+------------+---------+-----------+------+-------------------------+--------------------------+\n"
          ],
          "name": "stdout"
        }
      ]
    },
    {
      "cell_type": "markdown",
      "metadata": {
        "id": "bjZbysoFbkbP"
      },
      "source": [
        "Another way, using db_cursor to do the query. The results are the same."
      ]
    },
    {
      "cell_type": "code",
      "metadata": {
        "colab": {
          "base_uri": "https://localhost:8080/",
          "height": 0
        },
        "id": "8l_91dzdvE5w",
        "outputId": "0d863ff2-3ade-4230-9546-fba11ce2a952"
      },
      "source": [
        "# Implement SQL Query\n",
        "sql_statement = \"SELECT diag.subject_id, diag.hadm_id, diag.icd9_code, d.DOID, s.label, s.synonym FROM DOID d \\\n",
        "inner join SYNONYM s on d.DOID = s.DOID \\\n",
        "inner join DIAGNOSES_ICD diag on d.icd9_code = diag.icd9_code \\\n",
        "WHERE s.synonym = 'end-stage kidney disease'\"\n",
        "db_cursor.execute(sql_statement)\n",
        "dbresult = db_cursor.fetchall()\n",
        "for r in dbresult:\n",
        "  print(r)\n",
        "db_cursor.close()\n",
        "cnx.close()"
      ],
      "execution_count": 53,
      "outputs": [
        {
          "output_type": "stream",
          "text": [
            "(10029, 132349, '5856', '783', 'end stage renal disease', 'end-stage kidney disease')\n",
            "(40204, 175237, '5856', '783', 'end stage renal disease', 'end-stage kidney disease')\n",
            "(43881, 167021, '5856', '783', 'end stage renal disease', 'end-stage kidney disease')\n",
            "(43881, 172454, '5856', '783', 'end stage renal disease', 'end-stage kidney disease')\n"
          ],
          "name": "stdout"
        }
      ]
    }
  ]
}