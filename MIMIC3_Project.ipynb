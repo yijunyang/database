{
  "nbformat": 4,
  "nbformat_minor": 0,
  "metadata": {
    "colab": {
      "name": "MIMIC3 Project.ipynb",
      "provenance": [],
      "collapsed_sections": [],
      "authorship_tag": "ABX9TyO6Lq2pph3f8QmXkfSWwqiF",
      "include_colab_link": true
    },
    "kernelspec": {
      "name": "python3",
      "display_name": "Python 3"
    }
  },
  "cells": [
    {
      "cell_type": "markdown",
      "metadata": {
        "id": "view-in-github",
        "colab_type": "text"
      },
      "source": [
        "<a href=\"https://colab.research.google.com/github/yijunyang/database/blob/main/MIMIC3_Project.ipynb\" target=\"_parent\"><img src=\"https://colab.research.google.com/assets/colab-badge.svg\" alt=\"Open In Colab\"/></a>"
      ]
    },
    {
      "cell_type": "markdown",
      "metadata": {
        "id": "Mq9Aa50jvfvq"
      },
      "source": [
        "<div align='center' ><font size='5'>\r\n",
        "BIS638 Clinical DMS & Ontology Project\r\n",
        "</font></div>\r\n",
        "\r\n",
        "<div align='center' ><font size='6'>\r\n",
        "Ovarian Cancer EDA based on MIMIC III\r\n",
        "</font></div>\r\n",
        "\r\n",
        "<div align='center' ><font size='4'>\r\n",
        "MPH '21 Yijun Yang\r\n",
        "</font></div>"
      ]
    },
    {
      "cell_type": "markdown",
      "metadata": {
        "id": "9VeNiK4o2cgy"
      },
      "source": [
        "# 1. Introduction\n",
        "\n",
        "*This project for Yale Course BIS 638: Clinical DMS and Ontologies.*\n",
        "\n",
        "## 1.1 Background\n",
        "- Ovarian cancer is the deadliest cancer of the female reproductive organs, outpacing all other forms of\n",
        "gynecological cancer.\n",
        "\n",
        "- According to data from national cancer institute, more than 20,000 new cases are estimated in 2020.\n",
        "\n",
        "- About 1.4 percent of women will be diagnosed with ovarian cancer at some point during their lifetime.\n",
        "\n",
        "<br/>\n",
        "\n",
        "<div  align=\"center\"> \n",
        "<img src=\"https://raw.githubusercontent.com/yijunyang/database/main/ovarian_cancer_statistics.png\" width = \"500\" alt=\"img\" align=center />\n",
        "\n",
        "*Data source: National Cancer Institude*\n",
        "\n",
        "</div>\n",
        "\n",
        "<br/>\n",
        "\n",
        "## 1.2 Research Questions\n",
        "- Do an exploratory data analysis on patients who had ovarian cancer diagnoses:\n",
        "  - Mortality\n",
        "    - What’s the mortality of patients diagnosed with ovarian cancer?\n",
        "    - What’s the average age of death?\n",
        "\n",
        "  - ICU Stay\n",
        "    - How long did these ovarian cancer patients stay in ICU?\n",
        "    - Are there any differences in the average length of stay between those who survived and died?\n",
        "\n",
        "- Standardize information using disease ontology:\n",
        "    - ICD9 - DOID\n",
        "      - Referring to previous homework, I have retrieved DOID for each icd9_code, and saved the information in `doid_icd9.csv` file.\n",
        "    - DOID - Synonym\n",
        "      - Referring to previous homework, I have retrieved different synonyms for each DOID, and saved the information in `synonym_full.csv` file.\n",
        "\n",
        "<br/>\n",
        "\n",
        "## 1.3 Data Sources\n",
        "  - The data comes from [MIMIC-III](https://mimic.physionet.org/), an openly available dataset developed by the MIT Lab for Computational Physiology, comprising deidentified health data associated with ~60,000 intensive care unit admissions. It includes demographics, vital signs, laboratory tests, medications, and more.\n",
        "\n",
        "<div  align=\"center\"> \n",
        "<img src=\"https://encrypted-tbn0.gstatic.com/images?q=tbn:ANd9GcTeV6ahtZ6-POUjabTbHU973fbwmNAqleU5ag&usqp=CAU\" width = \"100\" alt=\"img\" />\n",
        "</div>\n",
        "\n",
        "\n",
        "  - To access MIMIC-III, I have finished [CITI Training for Data or Specimens Only Research](https://www.citiprogram.org/verify/?we5898f7f-6a38-4746-a119-3704dd3b4246-39864980). Data files have be downloaded and saved in google drive, and will be loaded into google colab.\n",
        "\n",
        "<div  align=\"center\"> \n",
        "<img src=\"https://raw.githubusercontent.com/yijunyang/database/main/CITI_certificate.png\" width = \"300\" alt=\"img\" />\n",
        "</div>\n",
        "\n",
        "<br/>\n",
        "\n",
        "## 1.4 Methods \n",
        "<br/>\n",
        "<img src=\"https://mark.trademarkia.com/logo-images/epoint-sa/vertabelo-86225942.jpg\" height = \"50\" alt=\"img\" />\n",
        "<img src=\"https://d1.awsstatic.com/asset-repository/products/amazon-rds/1024px-MySQL.ff87215b43fd7292af172e2a5d9b844217262571.png\" height = \"50\" alt=\"img\" />\n",
        "<img src=\"https://miro.medium.com/max/776/1*Lad06lrjlU9UZgSTHUoyfA.png\" height = \"50\" alt=\"img\" />\n",
        "<img src=\"https://www.ebi.ac.uk/ols/img/OLS_logo_2017.png\" height = \"50\" alt=\"img\" />\n",
        "\n",
        "<br/>\n",
        "\n",
        "- Use [Vertabelo Database Modeler](https://vertabelo.com/) to design an ER model, then generate a MySQL script.\n",
        "- Use google colab to install MySQL, read in SQL script and create a database with MIMIC III data.\n",
        "- Use [OLS](https://www.ebi.ac.uk/ols/index) as an ontology resource, link the disease terms in Disease Ontology to the patient data representation (icd9_code).\n",
        "\n",
        "\n"
      ]
    },
    {
      "cell_type": "markdown",
      "metadata": {
        "id": "ohUtqkH_2YgM"
      },
      "source": [
        "# 2. Database Construction\n",
        "\n",
        "## 2.1 Coding Environment Preparation\n",
        "\n",
        "- Install MySQL"
      ]
    },
    {
      "cell_type": "code",
      "metadata": {
        "id": "YTQIDXzT2SU5"
      },
      "source": [
        "!apt install mysql-server libmysqlclient-dev\n",
        "!service mysql start\n",
        "!mysql -e \"ALTER USER 'root'@'localhost' IDENTIFIED WITH mysql_native_password BY 'bis638'\"\n",
        "!pip install mysql-connector-python"
      ],
      "execution_count": null,
      "outputs": []
    },
    {
      "cell_type": "markdown",
      "metadata": {
        "id": "co4PKece7AHD"
      },
      "source": [
        "- Mount google drive"
      ]
    },
    {
      "cell_type": "code",
      "metadata": {
        "id": "dfXgXSrb6DdS"
      },
      "source": [
        "from google.colab import drive\n",
        "drive.mount('/content/gdrive')"
      ],
      "execution_count": null,
      "outputs": []
    },
    {
      "cell_type": "markdown",
      "metadata": {
        "id": "SWGtnHt_40mL"
      },
      "source": [
        "- Require libraries"
      ]
    },
    {
      "cell_type": "code",
      "metadata": {
        "id": "6xccAiF0CCY5"
      },
      "source": [
        "import matplotlib.pyplot as plt\n",
        "import pandas as pd\n",
        "import numpy as np\n",
        "from scipy import stats"
      ],
      "execution_count": 3,
      "outputs": []
    },
    {
      "cell_type": "markdown",
      "metadata": {
        "id": "0kOyRmeUmgTC"
      },
      "source": [
        "## 2.2 Data Resource\n",
        "\n",
        "- The data files we will use include:\n",
        "  - `PATIENTS`: Defines each SUBJECT_ID in the database, i.e. defines a single patient\n",
        "  - `ADMISSIONS`: Define a patient’s hospital admission, HADM_ID\n",
        "  - `DIAGNOSES_ICD`: Contains ICD diagnoses for patients, most notably ICD-9 diagnoses\n",
        "  - `D_ICD_DIAGNOSES`: Definition table for ICD diagnoses\n",
        "  - `ICUSTAYS`: Defines each ICUSTAY_ID in the database, i.e. defines a single ICU stay\n",
        "  - `PRESCRIPTIONS`: Contains medication related order entries, i.e. prescriptions"
      ]
    },
    {
      "cell_type": "markdown",
      "metadata": {
        "id": "BQBkh7_e7MKF"
      },
      "source": [
        "- Create an ER model with Vertabelo:\n",
        "![ER diagram](https://raw.githubusercontent.com/yijunyang/database/main/MIMIC3_Project_Physical_Model-2020-12-06_20-31.png)\n",
        "\n"
      ]
    },
    {
      "cell_type": "markdown",
      "metadata": {
        "id": "9HO3FB2N1N8A"
      },
      "source": [
        "- Use the `.sql` file generated from Vertabelo to construct the database:"
      ]
    },
    {
      "cell_type": "code",
      "metadata": {
        "id": "VR4NXT2C7E-X"
      },
      "source": [
        "!mysql -u root -p -e \"CREATE DATABASE IF NOT EXISTS mimic3;\\\n",
        "USE mimic3;\\\n",
        "SOURCE /content/gdrive/My Drive/mimic_iii/MIMIC3_Project_Physical_Model_create.sql;\\\n",
        "COMMIT;\""
      ],
      "execution_count": null,
      "outputs": []
    },
    {
      "cell_type": "markdown",
      "metadata": {
        "id": "ELpy-ZRW7kQt"
      },
      "source": [
        "- Read in the `.csv` files into our database:"
      ]
    },
    {
      "cell_type": "code",
      "metadata": {
        "id": "6omVABBS7SFD"
      },
      "source": [
        "import mysql.connector\n",
        "# establish a database connection with the load data file option set to True\n",
        "cnx = mysql.connector.connect(user='root',\n",
        "                password='bis638',\n",
        "                host='127.0.0.1',\n",
        "                database='mimic3',\n",
        "                allow_local_infile=True)\n",
        "\n",
        "# create database_cursor to perform SQL operation\n",
        "db_cursor = cnx.cursor()\n",
        "\n",
        "# execute the sql command to load a data file into a table (repeat the following line for more data files and tables)\n",
        "db_cursor.execute(\"Load data local infile '/content/gdrive/My Drive/mimic_iii/PATIENTS.csv' into table PATIENTS fields terminated by ',' ignore 1 lines\")\n",
        "db_cursor.execute(\"Load data local infile '/content/gdrive/My Drive/mimic_iii/ADMISSIONS.csv' into table ADMISSIONS fields terminated by ',' ignore 1 lines\")\n",
        "db_cursor.execute(\"Load data local infile '/content/gdrive/My Drive/mimic_iii/ICUSTAYS.csv' into table ICUSTAYS fields terminated by ',' ignore 1 lines\")\n",
        "db_cursor.execute(\"Load data local infile '/content/gdrive/My Drive/mimic_iii/PRESCRIPTIONS.csv' into table PRESCRIPTIONS fields terminated by ',' ignore 1 lines\")\n",
        "db_cursor.execute(\"Load data local infile '/content/gdrive/My Drive/mimic_iii/D_ICD_DIAGNOSES.csv' into table D_ICD_DIAGNOSES fields terminated by ',' ignore 1 lines\")\n",
        "db_cursor.execute(\"Load data local infile '/content/gdrive/My Drive/mimic_iii/DIAGNOSES_ICD.csv' into table DIAGNOSES_ICD fields terminated by ',' ignore 1 lines\")\n",
        "db_cursor.execute(\"Load data local infile '/content/gdrive/My Drive/mimic_iii/DOID.csv' into table DOID fields terminated by ',' ignore 1 lines\")\n",
        "db_cursor.execute(\"Load data local infile '/content/gdrive/My Drive/mimic_iii/synonym_full.csv' into table SYNONYM fields terminated by ',' ignore 1 lines\")\n",
        "\n",
        "# commit the loading data transaction\n",
        "db_cursor.execute(\"commit\")"
      ],
      "execution_count": 6,
      "outputs": []
    },
    {
      "cell_type": "markdown",
      "metadata": {
        "id": "iW0PrUb0xQU8"
      },
      "source": [
        "## 2.3 Ovarian Cancer Patients\n",
        "\n",
        "- We want to extract information that only contains ovarian cancer patients.\n",
        "  - First, we need to know what `icd9_code` represents ovarian cancer."
      ]
    },
    {
      "cell_type": "code",
      "metadata": {
        "colab": {
          "base_uri": "https://localhost:8080/",
          "height": 0
        },
        "id": "Y-G6TvySQ5NY",
        "outputId": "fd38154b-16c0-411c-a741-139d1a3bb0a1"
      },
      "source": [
        "!mysql -u root -p -e \"USE mimic3;\\\r\n",
        "SELECT * FROM D_ICD_DIAGNOSES \\\r\n",
        "WHERE (long_title LIKE '%OVARY%' OR long_title LIKE '%OVARIAN%') \\\r\n",
        "AND (long_title LIKE '%CANCER%' OR long_title LIKE '%NEOPLASM%');\""
      ],
      "execution_count": 8,
      "outputs": [
        {
          "output_type": "stream",
          "text": [
            "Enter password: \n",
            "+--------+-----------+----------------------------+---------------------------------------------------------+\n",
            "| row_id | icd9_code | short_title                | long_title                                              |\n",
            "+--------+-----------+----------------------------+---------------------------------------------------------+\n",
            "|   1968 | \"1830\"    | \"Malign neopl ovary\"       | \"Malignant neoplasm of ovary\"                           |\n",
            "|   2076 | \"1986\"    | \"Second malig neo ovary\"   | \"Secondary malignant neoplasm of ovary\"                 |\n",
            "|   2471 | \"220\"     | \"Benign neoplasm ovary\"    | \"Benign neoplasm of ovary\"                              |\n",
            "|   1724 | \"2362\"    | \"Unc behav neo ovary\"      | \"Neoplasm of uncertain behavior of ovary\"               |\n",
            "|  13321 | \"V1043\"   | \"Hx of ovarian malignancy\" | \"Personal history of malignant neoplasm of ovary\"       |\n",
            "|  10108 | \"V1641\"   | \"Fm hx ovary malignancy\"   | \"Family history of malignant neoplasm of ovary\"         |\n",
            "|  14464 | \"V7646\"   | \"Screen malig neop-ovary\"  | \"Special screening for malignant neoplasms of ovary\"    |\n",
            "|  14525 | \"V8402\"   | \"Genetc sus mal neo ovary\" | \"Genetic susceptibility to malignant neoplasm of ovary\" |\n",
            "+--------+-----------+----------------------------+---------------------------------------------------------+\n"
          ],
          "name": "stdout"
        }
      ]
    },
    {
      "cell_type": "markdown",
      "metadata": {
        "id": "u_9Xm1UVQ7zw"
      },
      "source": [
        "- After manully screening, we decide to include patients with `icd9_code` of `1830`, `1986`, and `V1043` as ovarian cancer patients.\r\n",
        "\r\n",
        "- Extract all the ovarian cancer patients (but only show the first 20 records and selected parameters)."
      ]
    },
    {
      "cell_type": "code",
      "metadata": {
        "colab": {
          "base_uri": "https://localhost:8080/",
          "height": 0
        },
        "id": "g2sgYpEU6X13",
        "outputId": "5882e23a-faec-4731-cd74-47d14799c797"
      },
      "source": [
        "!mysql -u root -p -e \"USE mimic3;\\\r\n",
        "CREATE TABLE IF NOT EXISTS ovarian_cancer AS \\\r\n",
        "  (SELECT a.subject_id, a.hadm_id, a.diagnosis, a.marital_status, a.ethnicity, a.hospital_expire_flag, di.icd9_code FROM ADMISSIONS AS a \\\r\n",
        "  INNER JOIN DIAGNOSES_ICD AS di \\\r\n",
        "  ON a.hadm_id = di.hadm_id \\\r\n",
        "  WHERE di.icd9_code IN ('\\\"1830\\\"', '\\\"1986\\\"', '\\\"V1043\\\"') \\\r\n",
        "  ORDER BY subject_id);\""
      ],
      "execution_count": 9,
      "outputs": [
        {
          "output_type": "stream",
          "text": [
            "Enter password: \n"
          ],
          "name": "stdout"
        }
      ]
    },
    {
      "cell_type": "code",
      "metadata": {
        "id": "YqjaQZekxuBX",
        "colab": {
          "base_uri": "https://localhost:8080/",
          "height": 0
        },
        "outputId": "4f5bfa75-0593-4b7f-913e-a4fbec4ddd29"
      },
      "source": [
        "!mysql -u root -p -e \"USE mimic3;\\\n",
        "SELECT o.subject_id, o.hadm_id, o.diagnosis, o.icd9_code, p.expire_flag FROM ovarian_cancer o \\\n",
        "INNER JOIN PATIENTS p ON o.subject_id = p.subject_id \\\n",
        "LIMIT 20;\""
      ],
      "execution_count": 10,
      "outputs": [
        {
          "output_type": "stream",
          "text": [
            "Enter password: \n",
            "+------------+---------+--------------------------------------------------+-----------+-------------+\n",
            "| subject_id | hadm_id | diagnosis                                        | icd9_code | expire_flag |\n",
            "+------------+---------+--------------------------------------------------+-----------+-------------+\n",
            "|       1098 |  164266 | \"ACUTE RENAL FAILURE\"                            | \"1830\"    | 1           |\n",
            "|       2577 |  120675 | \"SMALL BOWEL OBSTRUCTION\"                        | \"V1043\"   | 0           |\n",
            "|       2577 |  199797 | \"CI BLEED\"                                       | \"V1043\"   | 0           |\n",
            "|       2864 |  149239 | \"PELVIC MASS/SDA\"                                | \"1830\"    | 1           |\n",
            "|       3167 |  168713 | \"BRAIN METASTASIS\"                               | \"V1043\"   | 1           |\n",
            "|       3710 |  138509 | \"ICH;TELEMETRY\"                                  | \"V1043\"   | 0           |\n",
            "|       3867 |  140636 | \"OVARIAN CANCER\"                                 | \"V1043\"   | 1           |\n",
            "|       4178 |  138402 | \"PELVIC MASS/SDA\"                                | \"1830\"    | 1           |\n",
            "|       5437 |  113097 | \"SMALL BOWEL OBSTRUCTION/SDA\"                    | \"V1043\"   | 1           |\n",
            "|       6423 |  108232 | \"UROSEPSIS\"                                      | \"V1043\"   | 0           |\n",
            "|       6552 |  103859 | \"HEMATOMA\"                                       | \"1986\"    | 1           |\n",
            "|       6552 |  116827 | \"CHOLANGIOCARCINOMA;UPPER GASTROINTESTINA BLEED\" | \"1986\"    | 1           |\n",
            "|       6552 |  162786 | \"VARICEAL BLEED\"                                 | \"1986\"    | 1           |\n",
            "|       6638 |  129351 | \"UPPER GI BLEED\"                                 | \"1986\"    | 1           |\n",
            "|       6638 |  142506 | \"PELVIC MASS\"                                    | \"1986\"    | 1           |\n",
            "|       6691 |  138107 | \"SYNCOPE\"                                        | \"1830\"    | 1           |\n",
            "|       7023 |  150952 | \"SEIZURES;OVARIAN CARCINOMA\"                     | \"V1043\"   | 1           |\n",
            "|       7037 |  144768 | \"HYPOTENSION\"                                    | \"1830\"    | 1           |\n",
            "|       7193 |  126045 | \"OVARIAN CA/SDA\"                                 | \"1830\"    | 0           |\n",
            "|       7478 |  168872 | \"OVARIAN CA; ASCITES\"                            | \"1830\"    | 1           |\n",
            "+------------+---------+--------------------------------------------------+-----------+-------------+\n"
          ],
          "name": "stdout"
        }
      ]
    },
    {
      "cell_type": "markdown",
      "metadata": {
        "id": "JhMoZ3n1tn2f"
      },
      "source": [
        "- There are in total 169 patients in MIMIC3 database who had ovarian cancer, and they made about 200 admissions in total."
      ]
    },
    {
      "cell_type": "code",
      "metadata": {
        "colab": {
          "base_uri": "https://localhost:8080/"
        },
        "id": "izzaR53GES93",
        "outputId": "5b6bf5f0-3dd1-4e8a-c699-d371cc10b6ce"
      },
      "source": [
        "!mysql -u root -p -e \"USE mimic3;\\\r\n",
        "SELECT COUNT(DISTINCT subject_id) AS ovarian_cancer_subject, COUNT(DISTINCT hadm_id) AS ovarian_cancer_admission FROM ovarian_cancer;\""
      ],
      "execution_count": null,
      "outputs": [
        {
          "output_type": "stream",
          "text": [
            "Enter password: \n",
            "+------------------------+--------------------------+\n",
            "| ovarian_cancer_subject | ovarian_cancer_admission |\n",
            "+------------------------+--------------------------+\n",
            "|                    169 |                      201 |\n",
            "+------------------------+--------------------------+\n"
          ],
          "name": "stdout"
        }
      ]
    },
    {
      "cell_type": "markdown",
      "metadata": {
        "id": "xUMAiruvx-HY"
      },
      "source": [
        "# 3. Exploratory Data Analysis\n",
        "\n",
        "## 3.1 Mortality\n",
        "\n",
        "- First, we want to learn about the mortality rate of ovarian cancer.\n",
        "  - Use a pie chart to intuitively show the percentage.\n"
      ]
    },
    {
      "cell_type": "code",
      "metadata": {
        "colab": {
          "base_uri": "https://localhost:8080/",
          "height": 264
        },
        "id": "qvi7BAfv_QZh",
        "outputId": "c483e389-441e-4782-9dde-d3c3f325c682"
      },
      "source": [
        "sql_statement = \"SELECT expire_flag FROM PATIENTS \\\n",
        "WHERE subject_id in (SELECT DISTINCT subject_id FROM ovarian_cancer)\"\n",
        "\n",
        "db_cursor.execute(sql_statement)\n",
        "dbresult = db_cursor.fetchall()\n",
        "death_indicator = []\n",
        "for r in dbresult:\n",
        "  death_indicator.append(r[0])\n",
        "\n",
        "# print(death_indicator)\n",
        "survive = death_indicator.count('0')\n",
        "death = death_indicator.count('1')\n",
        "\n",
        "plt.pie([survive, death], labels = ['survive', 'dead'], autopct = '%1.2f%%')\n",
        "plt.title('Mortality of Ovarian Cancer Patients')\n",
        "plt.show()"
      ],
      "execution_count": 11,
      "outputs": [
        {
          "output_type": "display_data",
          "data": {
            "image/png": "[encoded data removed]",
            "text/plain": [
              "<Figure size 432x288 with 1 Axes>"
            ]
          },
          "metadata": {
            "tags": []
          }
        }
      ]
    },
    {
      "cell_type": "markdown",
      "metadata": {
        "id": "nRar8FZL_K0z"
      },
      "source": [
        "- Then, we want to know the average age of those who died. \n",
        "  - Before the calculation, take a look at each patient's death age.\n",
        "  - Some patients has a death age of 300, which is obviously impossible. Therefore, we do not account for this patient in our following analysis.\n",
        "  - Only show the first 20 records here."
      ]
    },
    {
      "cell_type": "code",
      "metadata": {
        "id": "kLsrQY253QjP",
        "colab": {
          "base_uri": "https://localhost:8080/",
          "height": 0
        },
        "outputId": "e9c421dd-e881-4d3e-9356-8c02e52be138"
      },
      "source": [
        "!mysql -u root -p -e \"USE mimic3;\\\n",
        "SELECT subject_id, dob, dod, round(left((dod-dob), length(dod-dob)-8)/100) AS expire_age FROM PATIENTS \\\n",
        "WHERE subject_id in (SELECT DISTINCT subject_id FROM ovarian_cancer) \\\n",
        "AND expire_flag = 1 \\\n",
        "LIMIT 20;\""
      ],
      "execution_count": 13,
      "outputs": [
        {
          "output_type": "stream",
          "text": [
            "Enter password: \n",
            "+------------+---------------------+---------------------+------------+\n",
            "| subject_id | dob                 | dod                 | expire_age |\n",
            "+------------+---------------------+---------------------+------------+\n",
            "|       1098 | 2138-02-10 00:00:00 | 2198-07-31 00:00:00 |         60 |\n",
            "|       2864 | 2111-02-07 00:00:00 | 2165-07-26 00:00:00 |         54 |\n",
            "|       3167 | 2078-08-30 00:00:00 | 2152-05-30 00:00:00 |         74 |\n",
            "|       3867 | 2055-07-28 00:00:00 | 2125-11-09 00:00:00 |         70 |\n",
            "|       4178 | 2088-04-05 00:00:00 | 2144-10-10 00:00:00 |         56 |\n",
            "|       5437 | 2140-05-07 00:00:00 | 2198-07-22 00:00:00 |         58 |\n",
            "|       6552 | 2073-06-01 00:00:00 | 2116-02-04 00:00:00 |         43 |\n",
            "|       6638 | 2127-02-22 00:00:00 | 2164-07-19 00:00:00 |         37 |\n",
            "|       6691 | 2040-04-12 00:00:00 | 2116-01-18 00:00:00 |         76 |\n",
            "|       7023 | 2094-04-28 00:00:00 | 2160-07-31 00:00:00 |         66 |\n",
            "|       7037 | 2046-03-03 00:00:00 | 2130-06-03 00:00:00 |         84 |\n",
            "|       7478 | 2028-05-12 00:00:00 | 2106-04-02 00:00:00 |         78 |\n",
            "|       7764 | 2041-02-16 00:00:00 | 2110-06-27 00:00:00 |         69 |\n",
            "|       7862 | 2041-08-21 00:00:00 | 2111-11-27 00:00:00 |         70 |\n",
            "|       7955 | 2053-08-22 00:00:00 | 2121-06-29 00:00:00 |         68 |\n",
            "|       7957 | 2120-04-01 00:00:00 | 2183-06-11 00:00:00 |         63 |\n",
            "|       8276 | 2108-06-05 00:00:00 | 2185-05-09 00:00:00 |         77 |\n",
            "|       8475 | 2037-10-07 00:00:00 | 2115-10-23 00:00:00 |         78 |\n",
            "|       9165 | 2091-01-05 00:00:00 | 2137-03-14 00:00:00 |         46 |\n",
            "|       9440 | 2095-03-27 00:00:00 | 2151-07-01 00:00:00 |         56 |\n",
            "+------------+---------------------+---------------------+------------+\n"
          ],
          "name": "stdout"
        }
      ]
    },
    {
      "cell_type": "markdown",
      "metadata": {
        "id": "eg66Plqk99cO"
      },
      "source": [
        "  - Use a histgram to intuitively show the pattern."
      ]
    },
    {
      "cell_type": "code",
      "metadata": {
        "colab": {
          "base_uri": "https://localhost:8080/",
          "height": 281
        },
        "id": "C2zwRLu8C_bb",
        "outputId": "fc94b27e-93ce-4f27-8dc4-c13bbf0e268c"
      },
      "source": [
        "sql_statement = \"SELECT round(left((dod-dob), length(dod-dob)-8)/100) AS expire_age FROM PATIENTS \\\n",
        "WHERE subject_id in (SELECT DISTINCT subject_id FROM ovarian_cancer) \\\n",
        "AND expire_flag = 1 \\\n",
        "AND left((dod-dob), length(dod-dob)-8)/100 < 100\"\n",
        "\n",
        "db_cursor.execute(sql_statement)\n",
        "dbresult = db_cursor.fetchall()\n",
        "ages = []\n",
        "for r in dbresult:\n",
        "  ages.append(r[0])\n",
        "\n",
        "plt.hist(ages, bins = 12, color = 'steelblue', edgecolor = 'k')\n",
        "plt.title('Age of death distribution for Ovarian Cancer Patients')\n",
        "plt.show()"
      ],
      "execution_count": 14,
      "outputs": [
        {
          "output_type": "display_data",
          "data": {
            "image/png": "[encoded data removed]",
            "text/plain": [
              "<Figure size 432x288 with 1 Axes>"
            ]
          },
          "metadata": {
            "tags": [],
            "needs_background": "light"
          }
        }
      ]
    },
    {
      "cell_type": "markdown",
      "metadata": {
        "id": "aswd_Ymy0adq"
      },
      "source": [
        "- Calculate the average expire age."
      ]
    },
    {
      "cell_type": "code",
      "metadata": {
        "colab": {
          "base_uri": "https://localhost:8080/",
          "height": 0
        },
        "id": "pXqSgjgh-jU-",
        "outputId": "e0800904-967f-415d-ce1f-078057c25b88"
      },
      "source": [
        "!mysql -u root -p -e \"USE mimic3;\\\n",
        "SELECT round(AVG(left((dod-dob), length(dod-dob)-8)/100)) AS avg_expire_age FROM PATIENTS \\\n",
        "WHERE subject_id in (SELECT DISTINCT subject_id FROM ovarian_cancer) \\\n",
        "AND expire_flag = 1 \\\n",
        "AND left((dod-dob), length(dod-dob)-8)/100 < 100;\""
      ],
      "execution_count": 15,
      "outputs": [
        {
          "output_type": "stream",
          "text": [
            "Enter password: \n",
            "+----------------+\n",
            "| avg_expire_age |\n",
            "+----------------+\n",
            "|             66 |\n",
            "+----------------+\n"
          ],
          "name": "stdout"
        }
      ]
    },
    {
      "cell_type": "markdown",
      "metadata": {
        "id": "nCtspqj6xq1g"
      },
      "source": [
        "## 3.2 ICU Stay\n",
        "- We want to know whether these patients diagnosed with ovrian cancer had ICU experiences.\n",
        "  - How long did they stay?\n",
        "  - Are there any differences in the length of stay between those who survived and died?\n"
      ]
    },
    {
      "cell_type": "markdown",
      "metadata": {
        "id": "zHEin435A-oC"
      },
      "source": [
        "- First, calculate the lenth of stay for each ICU admission.\r\n",
        "  - Only show the first 20 records here."
      ]
    },
    {
      "cell_type": "code",
      "metadata": {
        "id": "iXW0EpXBu3wM",
        "colab": {
          "base_uri": "https://localhost:8080/",
          "height": 0
        },
        "outputId": "6db6593d-4e4c-494a-9abe-38a3e74c66dd"
      },
      "source": [
        "!mysql -u root -p -e \"USE mimic3;\\\n",
        "CREATE TABLE IF NOT EXISTS ovarian_icu AS \\\n",
        "  (SELECT i.subject_id, i.hadm_id, i.icustay_id, i.los, p.expire_flag FROM ADMISSIONS AS a \\\n",
        "  LEFT JOIN ICUSTAYS AS i ON i.hadm_id = a.hadm_id \\\n",
        "  LEFT JOIN PATIENTS AS p ON p.subject_id = a.subject_id \\\n",
        "  WHERE i.hadm_id in (SELECT hadm_id FROM ovarian_cancer)); \\\n",
        "SELECT * FROM ovarian_icu \\\n",
        "LIMIT 20;\""
      ],
      "execution_count": 16,
      "outputs": [
        {
          "output_type": "stream",
          "text": [
            "Enter password: \n",
            "+------------+---------+------------+--------+-------------+\n",
            "| subject_id | hadm_id | icustay_id | los    | expire_flag |\n",
            "+------------+---------+------------+--------+-------------+\n",
            "|       1098 |  164266 |     260567 | 3.6425 | 1           |\n",
            "|       2577 |  120675 |     264032 |  1.871 | 0           |\n",
            "|       2577 |  199797 |     231757 | 0.6397 | 0           |\n",
            "|       2864 |  149239 |     274525 | 0.7218 | 1           |\n",
            "|       3167 |  168713 |     258151 | 0.9958 | 1           |\n",
            "|       3710 |  138509 |     287396 | 4.0004 | 0           |\n",
            "|       3867 |  140636 |     216111 | 7.8158 | 1           |\n",
            "|       4178 |  138402 |     239805 |  0.934 | 1           |\n",
            "|       6423 |  108232 |     293909 | 3.0787 | 0           |\n",
            "|       6552 |  103859 |     257694 | 5.5905 | 1           |\n",
            "|       6552 |  116827 |     219257 |  2.409 | 1           |\n",
            "|       6552 |  162786 |     239486 | 1.5497 | 1           |\n",
            "|       6638 |  129351 |     220552 | 0.8601 | 1           |\n",
            "|       6638 |  142506 |     215346 | 0.6195 | 1           |\n",
            "|       6691 |  138107 |     270733 | 1.8299 | 1           |\n",
            "|       7023 |  150952 |     269473 | 2.0763 | 1           |\n",
            "|       7037 |  144768 |     207172 |  0.925 | 1           |\n",
            "|       7037 |  144768 |     239405 | 3.9715 | 1           |\n",
            "|       7037 |  144768 |     263461 | 4.7568 | 1           |\n",
            "|       7193 |  126045 |     275099 | 0.9306 | 0           |\n",
            "+------------+---------+------------+--------+-------------+\n"
          ],
          "name": "stdout"
        }
      ]
    },
    {
      "cell_type": "markdown",
      "metadata": {
        "id": "kbe7JVVU4O15"
      },
      "source": [
        "- Note that some patients may stay in ICU for several times.\n",
        "  - Therefore, we want to modify the above table, to calculate a total stay length for each subject.\n",
        "  - Only show the first 20 records here."
      ]
    },
    {
      "cell_type": "code",
      "metadata": {
        "id": "_ilQGWJU4CLg",
        "colab": {
          "base_uri": "https://localhost:8080/",
          "height": 0
        },
        "outputId": "491cf560-ce5b-480d-b8d5-5449eca47b4c"
      },
      "source": [
        "!mysql -u root -p -e \"USE mimic3;\\\n",
        "CREATE TABLE IF NOT EXISTS ovarian_los AS \\\n",
        "  (SELECT oi.subject_id, ROUND(SUM(oi.los), 1) AS total_los, p.expire_flag FROM ovarian_icu AS oi \\\n",
        "  INNER JOIN PATIENTS AS p ON oi.subject_id = p.subject_id \\\n",
        "  GROUP BY subject_id); \\\n",
        "SELECT * FROM ovarian_los \\\n",
        "LIMIT 20;\""
      ],
      "execution_count": 17,
      "outputs": [
        {
          "output_type": "stream",
          "text": [
            "Enter password: \n",
            "+------------+-----------+-------------+\n",
            "| subject_id | total_los | expire_flag |\n",
            "+------------+-----------+-------------+\n",
            "|       1098 |       3.6 | 1           |\n",
            "|       2577 |       2.5 | 0           |\n",
            "|       2864 |       0.7 | 1           |\n",
            "|       3167 |       1.0 | 1           |\n",
            "|       3710 |       4.0 | 0           |\n",
            "|       3867 |       7.8 | 1           |\n",
            "|       4178 |       0.9 | 1           |\n",
            "|       6423 |       3.1 | 0           |\n",
            "|       6552 |       9.5 | 1           |\n",
            "|       6638 |       1.5 | 1           |\n",
            "|       6691 |       1.8 | 1           |\n",
            "|       7023 |       2.1 | 1           |\n",
            "|       7037 |       9.7 | 1           |\n",
            "|       7193 |       0.9 | 0           |\n",
            "|       7478 |       1.0 | 1           |\n",
            "|       7764 |       0.8 | 1           |\n",
            "|       7862 |       1.0 | 1           |\n",
            "|       7955 |       5.9 | 1           |\n",
            "|       7957 |       1.0 | 1           |\n",
            "|       8276 |       1.8 | 1           |\n",
            "+------------+-----------+-------------+\n"
          ],
          "name": "stdout"
        }
      ]
    },
    {
      "cell_type": "markdown",
      "metadata": {
        "id": "mDGoy-37uVey"
      },
      "source": [
        "- The average length of stay in ICU is 3.3 days for the survived and 4.7 for the died."
      ]
    },
    {
      "cell_type": "code",
      "metadata": {
        "colab": {
          "base_uri": "https://localhost:8080/"
        },
        "id": "wkrE78_GAI7z",
        "outputId": "e940caf5-ae33-407f-af94-610b7a056dd7"
      },
      "source": [
        "!mysql -u root -p -e \"USE mimic3;\\\n",
        "SELECT expire_flag, ROUND(AVG(total_los),1) AS average_los FROM ovarian_los GROUP BY expire_flag;\""
      ],
      "execution_count": null,
      "outputs": [
        {
          "output_type": "stream",
          "text": [
            "Enter password: \n",
            "+-------------+-------------+\n",
            "| expire_flag | average_los |\n",
            "+-------------+-------------+\n",
            "| 0           |         3.3 |\n",
            "| 1           |         4.7 |\n",
            "+-------------+-------------+\n"
          ],
          "name": "stdout"
        }
      ]
    },
    {
      "cell_type": "markdown",
      "metadata": {
        "id": "GUrCib59AzSH"
      },
      "source": [
        "- We want to do a statistical test to see if there is a significant difference between those who survived and died."
      ]
    },
    {
      "cell_type": "code",
      "metadata": {
        "id": "txc_cq4tA7as"
      },
      "source": [
        "### need to close the cursor and reconnect to avoid potential bug\n",
        "db_cursor.close()\n",
        "cnx.close()\n",
        "import mysql.connector\n",
        "cnx = mysql.connector.connect(user='root', password='bis638', host='127.0.0.1', database='mimic3', allow_local_infile=True)\n",
        "db_cursor = cnx.cursor()\n",
        "\n",
        "sql_statement = \"SELECT * FROM ovarian_los\"\n",
        "db_cursor.execute(sql_statement)\n",
        "dbresult = db_cursor.fetchall()\n",
        "\n",
        "# initiate a temporary list to save the dictionaries\n",
        "tmp = []\n",
        "# initiate an index\n",
        "i = 0\n",
        "\n",
        "for r in dbresult:\n",
        "  LOS = {}\n",
        "  LOS['subject_id'] = r[0]\n",
        "  LOS['total_los'] = r[1]\n",
        "  LOS['expire_flag'] = r[2]\n",
        "  \n",
        "  # save the value of dictionary in the list\n",
        "  tmp.append(LOS.values())\n",
        "  i = i + 1\n",
        "\n",
        "df = pd.DataFrame(columns = ['subject_id', 'total_los', 'expire_flag'], data = tmp)\n",
        "rvs1 = df.loc[df[\"expire_flag\"] == \"1\", [\"total_los\"]]\n",
        "rvs0 = df.loc[df[\"expire_flag\"] == \"0\", [\"total_los\"]]"
      ],
      "execution_count": 18,
      "outputs": []
    },
    {
      "cell_type": "code",
      "metadata": {
        "colab": {
          "base_uri": "https://localhost:8080/",
          "height": 0
        },
        "id": "wHApilwMCU6J",
        "outputId": "6aa6e38e-c8d1-418f-acc1-847182485b10"
      },
      "source": [
        "# Do the levene test to assess the equality of variances\n",
        "stats.levene(rvs1['total_los'], rvs0['total_los'])"
      ],
      "execution_count": 19,
      "outputs": [
        {
          "output_type": "execute_result",
          "data": {
            "text/plain": [
              "LeveneResult(statistic=1.9990433182474632, pvalue=0.15928251771075227)"
            ]
          },
          "metadata": {
            "tags": []
          },
          "execution_count": 19
        }
      ]
    },
    {
      "cell_type": "code",
      "metadata": {
        "colab": {
          "base_uri": "https://localhost:8080/",
          "height": 0
        },
        "id": "h0Rd-hUtQWVl",
        "outputId": "ba96fa43-ccd1-441e-921a-dcbf0575bb67"
      },
      "source": [
        "# LeveneResult p > 0.05, we can assume that variances are the same\r\n",
        "# Do the t test\r\n",
        "stats.ttest_ind(rvs1['total_los'], rvs0['total_los'])"
      ],
      "execution_count": 20,
      "outputs": [
        {
          "output_type": "execute_result",
          "data": {
            "text/plain": [
              "Ttest_indResult(statistic=1.523764151362712, pvalue=0.12948197260712796)"
            ]
          },
          "metadata": {
            "tags": []
          },
          "execution_count": 20
        }
      ]
    },
    {
      "cell_type": "markdown",
      "metadata": {
        "id": "l2fTIGqzQ7PJ"
      },
      "source": [
        "- p = 0.13 > 0.05, we fail to reject the null hypothesis and conclude that there is no significant difference in average length of ICU stay between those who survived and those who died."
      ]
    },
    {
      "cell_type": "markdown",
      "metadata": {
        "id": "jZkeGMZT7cCj"
      },
      "source": [
        "# 4. Ontology"
      ]
    },
    {
      "cell_type": "markdown",
      "metadata": {
        "id": "75jr4l__uor_"
      },
      "source": [
        "- I tried to retrieve the DOID for each icd9_code, but turned out there was no corresponding DOID for secondary malignant neoplasm of ovary and personal history of ovarian neoplasm."
      ]
    },
    {
      "cell_type": "code",
      "metadata": {
        "colab": {
          "base_uri": "https://localhost:8080/",
          "height": 0
        },
        "id": "VCTRVuR8EcLY",
        "outputId": "8cded2cb-eeb6-44bc-e9fd-6de4d0bdc0f1"
      },
      "source": [
        "!mysql -u root -p -e \"USE mimic3;\\\r\n",
        "CREATE TABLE IF NOT EXISTS ovarian_syn AS \\\r\n",
        "  (SELECT DISTINCT did.icd9_code, did.short_title, did.long_title, DOID.DOID, SYNONYM.label, SYNONYM.synonym FROM D_ICD_DIAGNOSES AS did \\\r\n",
        "  LEFT JOIN DOID ON did.icd9_code = DOID.icd9_code \\\r\n",
        "  LEFT JOIN SYNONYM ON DOID.DOID = SYNONYM.DOID \\\r\n",
        "  WHERE did.icd9_code LIKE '_1830_' \\\r\n",
        "  OR did.icd9_code LIKE '_1986_' \\\r\n",
        "  OR did.icd9_code LIKE '_V1043_'); \\\r\n",
        "SELECT * FROM ovarian_syn;\""
      ],
      "execution_count": 21,
      "outputs": [
        {
          "output_type": "stream",
          "text": [
            "Enter password: \n",
            "+-----------+----------------------------+---------------------------------------------------+------+----------------+---------------------------+\n",
            "| icd9_code | short_title                | long_title                                        | DOID | label          | synonym                   |\n",
            "+-----------+----------------------------+---------------------------------------------------+------+----------------+---------------------------+\n",
            "| \"1830\"    | \"Malign neopl ovary\"       | \"Malignant neoplasm of ovary\"                     | 2394 | ovarian cancer | malignant tumour of ovary |\n",
            "| \"1830\"    | \"Malign neopl ovary\"       | \"Malignant neoplasm of ovary\"                     | 2394 | ovarian cancer | ovarian neoplasm          |\n",
            "| \"1830\"    | \"Malign neopl ovary\"       | \"Malignant neoplasm of ovary\"                     | 2394 | ovarian cancer | tumor of the Ovary        |\n",
            "| \"1830\"    | \"Malign neopl ovary\"       | \"Malignant neoplasm of ovary\"                     | 2394 | ovarian cancer | primary ovarian cancer    |\n",
            "| \"1830\"    | \"Malign neopl ovary\"       | \"Malignant neoplasm of ovary\"                     | 2394 | ovarian cancer | malignant Ovarian tumor   |\n",
            "| \"1830\"    | \"Malign neopl ovary\"       | \"Malignant neoplasm of ovary\"                     | 2394 | ovarian cancer | ovary neoplasm            |\n",
            "| \"1986\"    | \"Second malig neo ovary\"   | \"Secondary malignant neoplasm of ovary\"           | NULL | NULL           | NULL                      |\n",
            "| \"V1043\"   | \"Hx of ovarian malignancy\" | \"Personal history of malignant neoplasm of ovary\" | NULL | NULL           | NULL                      |\n",
            "+-----------+----------------------------+---------------------------------------------------+------+----------------+---------------------------+\n"
          ],
          "name": "stdout"
        }
      ]
    },
    {
      "cell_type": "markdown",
      "metadata": {
        "id": "MXoLUuIFSOLL"
      },
      "source": [
        "- Here comes the problem: \r\n",
        "  - When I try to retrieve patients with **malignant tumour of ovary**, not only patients with `icd9_code = 1830` meet the criteria; I also want to retrieve patients with `icd9_code = 1986`.\r\n",
        "  - But when I try to retrieve patients with **primary ovarian cancer**, I do not want patients with `icd9_code = 1986 (Secondary malignant neoplasm of ovary)`.\r\n",
        "- Therefore, I would like to do a little modification to the above table."
      ]
    },
    {
      "cell_type": "code",
      "metadata": {
        "colab": {
          "base_uri": "https://localhost:8080/",
          "height": 0
        },
        "id": "B8iUqZ3yTU5j",
        "outputId": "fabd7130-dcfe-4dbf-b31d-f0494a569401"
      },
      "source": [
        "!mysql -u root -p -e \"USE mimic3;\\\r\n",
        "START TRANSACTION; \\\r\n",
        "INSERT INTO ovarian_syn VALUES ('\\\"1986\\\"', 'Second malig neo ovary', 'Secondary malignant neoplasm of ovary', 'NULL', 'NULL', 'malignant tumour of ovary'); \\\r\n",
        "INSERT INTO ovarian_syn VALUES ('\\\"1986\\\"', 'Second malig neo ovary', 'Secondary malignant neoplasm of ovary', 'NULL', 'NULL', 'ovarian neoplasm'); \\\r\n",
        "INSERT INTO ovarian_syn VALUES ('\\\"1986\\\"', 'Second malig neo ovary', 'Secondary malignant neoplasm of ovary', 'NULL', 'NULL', 'tumor of the Ovary'); \\\r\n",
        "INSERT INTO ovarian_syn VALUES ('\\\"1986\\\"', 'Second malig neo ovary', 'Secondary malignant neoplasm of ovary', 'NULL', 'NULL', 'malignant Ovarian tumor'); \\\r\n",
        "INSERT INTO ovarian_syn VALUES ('\\\"1986\\\"', 'Second malig neo ovary', 'Secondary malignant neoplasm of ovary', 'NULL', 'NULL', 'ovary neoplasm'); \\\r\n",
        "COMMIT; \\\r\n",
        "SELECT * FROM ovarian_syn WHERE synonym NOT IN ('NULL');\""
      ],
      "execution_count": 22,
      "outputs": [
        {
          "output_type": "stream",
          "text": [
            "Enter password: \n",
            "+-----------+------------------------+---------------------------------------+------+----------------+---------------------------+\n",
            "| icd9_code | short_title            | long_title                            | DOID | label          | synonym                   |\n",
            "+-----------+------------------------+---------------------------------------+------+----------------+---------------------------+\n",
            "| \"1830\"    | \"Malign neopl ovary\"   | \"Malignant neoplasm of ovary\"         | 2394 | ovarian cancer | malignant tumour of ovary |\n",
            "| \"1830\"    | \"Malign neopl ovary\"   | \"Malignant neoplasm of ovary\"         | 2394 | ovarian cancer | ovarian neoplasm          |\n",
            "| \"1830\"    | \"Malign neopl ovary\"   | \"Malignant neoplasm of ovary\"         | 2394 | ovarian cancer | tumor of the Ovary        |\n",
            "| \"1830\"    | \"Malign neopl ovary\"   | \"Malignant neoplasm of ovary\"         | 2394 | ovarian cancer | primary ovarian cancer    |\n",
            "| \"1830\"    | \"Malign neopl ovary\"   | \"Malignant neoplasm of ovary\"         | 2394 | ovarian cancer | malignant Ovarian tumor   |\n",
            "| \"1830\"    | \"Malign neopl ovary\"   | \"Malignant neoplasm of ovary\"         | 2394 | ovarian cancer | ovary neoplasm            |\n",
            "| \"1986\"    | Second malig neo ovary | Secondary malignant neoplasm of ovary | NULL | NULL           | malignant tumour of ovary |\n",
            "| \"1986\"    | Second malig neo ovary | Secondary malignant neoplasm of ovary | NULL | NULL           | ovarian neoplasm          |\n",
            "| \"1986\"    | Second malig neo ovary | Secondary malignant neoplasm of ovary | NULL | NULL           | tumor of the Ovary        |\n",
            "| \"1986\"    | Second malig neo ovary | Secondary malignant neoplasm of ovary | NULL | NULL           | malignant Ovarian tumor   |\n",
            "| \"1986\"    | Second malig neo ovary | Secondary malignant neoplasm of ovary | NULL | NULL           | ovary neoplasm            |\n",
            "+-----------+------------------------+---------------------------------------+------+----------------+---------------------------+\n"
          ],
          "name": "stdout"
        }
      ]
    },
    {
      "cell_type": "markdown",
      "metadata": {
        "id": "Wpm2QS3ju6OZ"
      },
      "source": [
        "- Finally, we can use synonyms to retrieve corresponding subjects and admissions as we expected.\r\n",
        "  - Sample code as below (the results are too long so I hide them)."
      ]
    },
    {
      "cell_type": "code",
      "metadata": {
        "id": "quNQFUD9OJN0"
      },
      "source": [
        "!mysql -u root -p -e \"USE mimic3;\\\r\n",
        "SELECT diag.subject_id, diag.hadm_id, diag.icd9_code FROM ovarian_syn s \\\r\n",
        "INNER JOIN DIAGNOSES_ICD diag on s.icd9_code = diag.icd9_code \\\r\n",
        "WHERE s.synonym = 'malignant tumour of ovary';\" "
      ],
      "execution_count": null,
      "outputs": []
    },
    {
      "cell_type": "markdown",
      "metadata": {
        "id": "YbIQ5BVPrGYG"
      },
      "source": [
        "# 5. Reference & Acknowlegement\r\n",
        "\r\n",
        "- Some part of inspirations comes from [44 Statistics to Know\r\n",
        "About Ovarian Cancer](https://www.asbestos.com/cancer/ovarian/ovarian-cancer-statistics/#:~:text=The%20median%20age%20of%20patients%20who%20die%20from%20ovarian%20cancer%20is%2070.&text=About%20half%20of%20ovarian%20cancer,women%20ages%2063%20and%20older.).\r\n",
        "\r\n",
        "- Thanks to Kei-Hoi, David, and Vimig, for this fantastic, brand-new course."
      ]
    }
  ]
}